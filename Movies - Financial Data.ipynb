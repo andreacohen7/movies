{
 "cells": [
  {
   "cell_type": "markdown",
   "id": "1f63037d",
   "metadata": {},
   "source": [
    "# Movies - Financial Data\n",
    "- Andrea Cohen\n",
    "- 03.01.23\n"
   ]
  },
  {
   "cell_type": "markdown",
   "id": "b8e86ec3",
   "metadata": {},
   "source": [
    "## Business Problem:\n",
    " - to produce a MySQL database on Movies from a subset of IMDB's publicly available dataset\n",
    " - to use this database to analyze what makes a movie successful\n",
    " - to provide recommendations to the stakeholder on how to make a successful movie"
   ]
  },
  {
   "cell_type": "markdown",
   "id": "8bf76cae",
   "metadata": {},
   "source": [
    "### Financial Data Problem:\n",
    "- There is no financial information included in the IMDB data (e.g. budget or revenue).\n",
    "- The stakeholder identified The Movie Database (TMDB) as a source of financial data (https://www.themoviedb.org/).\n",
    "- The stakeholder wants the budget, revenue, and MPAA Rating (G/PG/PG-13/R), which is also called \"Certification\"."
   ]
  },
  {
   "cell_type": "markdown",
   "id": "09384133",
   "metadata": {},
   "source": [
    "## Tasks:\n",
    "- Download several files from IMDB’s movie data set and filter out the subset of moves requested by the stakeholder.\n",
    "- Use an API to extract box office revenue and profit data to add to the IMDB data and perform exploratory data analysis.\n",
    "- Construct and export a MySQL database using the data.\n",
    "- Apply hypothesis testing to explore what makes a movie successful.\n",
    "- Produce a Linear Regression model to predict movie performance."
   ]
  },
  {
   "cell_type": "markdown",
   "id": "d184f693",
   "metadata": {},
   "source": [
    "### Financial Data Tasks:\n",
    "- perform a test extraction of movies that started in 2000 or 2001\n",
    "- each year should be saved as a separate .csv.gz file"
   ]
  },
  {
   "cell_type": "markdown",
   "id": "7c2b4b3f",
   "metadata": {},
   "source": [
    "## Data:\n",
    "\n",
    "Data Location - The dataset files can be accessed and downloaded from https://datasets.imdbws.com/. The data is refreshed daily.\n",
    "\n",
    "Data Source - TMDB\n",
    "\n",
    "![png](TMDB1024_1.png)\n",
    "\n",
    "IMDb Dataset Details -\n",
    "\n",
    "- title.akas.tsv.gz -  \n",
    "Contains the following information for titles:\n",
    "\n",
    " - titleId (string) - a tconst, an alphanumeric unique identifier of the title\n",
    " - ordering (integer) – a number to uniquely identify rows for a given titleId\n",
    " - title (string) – the localized title\n",
    " - region (string) - the region for this version of the title\n",
    " - language (string) - the language of the title\n",
    " - types (array) - Enumerated set of attributes for this alternative title. One or more of the following: \"alternative\", \"dvd\", \"festival\", \"tv\", \"video\", \"working\", \"original\", \"imdbDisplay\". New values may be added in the future without warning\n",
    " - attributes (array) - Additional terms to describe this alternative title, not enumerated\n",
    " - isOriginalTitle (boolean) – 0: not original title; 1: original title  \n",
    " \n",
    " \n",
    "- title.basics.tsv.gz -   \n",
    "Contains the following information for titles:\n",
    " - tconst (string) - alphanumeric unique identifier of the title\n",
    " - titleType (string) – the type/format of the title (e.g. movie, short, tvseries, tvepisode, video, etc)\n",
    " - primaryTitle (string) – the more popular title / the title used by the filmmakers on promotional materials at the point of release\n",
    " - originalTitle (string) - original title, in the original language\n",
    " - isAdult (boolean) - 0: non-adult title; 1: adult title\n",
    " - startYear (YYYY) – represents the release year of a title. In the case of TV Series, it is the series start year\n",
    " - endYear (YYYY) – TV Series end year. ‘\\N’ for all other title types\n",
    " - runtimeMinutes – primary runtime of the title, in minutes\n",
    " - genres (string array) – includes up to three genres associated with the title   \n",
    " \n",
    " \n",
    "- title.ratings.tsv.gz –   \n",
    "Contains the IMDb rating and votes information for titles\n",
    " - tconst (string) - alphanumeric unique identifier of the title\n",
    " - averageRating – weighted average of all the individual user ratings\n",
    " - numVotes - number of votes the title has received"
   ]
  },
  {
   "cell_type": "code",
   "execution_count": null,
   "id": "07430133",
   "metadata": {},
   "outputs": [],
   "source": []
  }
 ],
 "metadata": {
  "kernelspec": {
   "display_name": "Python (dojo-env)",
   "language": "python",
   "name": "dojo-env"
  },
  "language_info": {
   "codemirror_mode": {
    "name": "ipython",
    "version": 3
   },
   "file_extension": ".py",
   "mimetype": "text/x-python",
   "name": "python",
   "nbconvert_exporter": "python",
   "pygments_lexer": "ipython3",
   "version": "3.9.15"
  },
  "toc": {
   "base_numbering": 1,
   "nav_menu": {},
   "number_sections": false,
   "sideBar": true,
   "skip_h1_title": false,
   "title_cell": "Table of Contents",
   "title_sidebar": "Contents",
   "toc_cell": false,
   "toc_position": {},
   "toc_section_display": true,
   "toc_window_display": false
  }
 },
 "nbformat": 4,
 "nbformat_minor": 5
}
