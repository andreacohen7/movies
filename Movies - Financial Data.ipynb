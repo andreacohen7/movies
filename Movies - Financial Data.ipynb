{
 "cells": [
  {
   "cell_type": "markdown",
   "id": "97ef05e7",
   "metadata": {},
   "source": [
    "# Movies - Financial Data\n",
    "- Andrea Cohen\n",
    "- 03.01.23\n"
   ]
  },
  {
   "cell_type": "markdown",
   "id": "253293e1",
   "metadata": {},
   "source": [
    "## Business Problem:\n",
    " - to produce a MySQL database on Movies from a subset of IMDB's publicly available dataset\n",
    " - to use this database to analyze what makes a movie successful\n",
    " - to provide recommendations to the stakeholder on how to make a successful movie"
   ]
  },
  {
   "cell_type": "markdown",
   "id": "968dcc6f",
   "metadata": {},
   "source": [
    "### Financial Data Problem:\n",
    "- There is no financial information included in the IMDB data (e.g. budget or revenue).\n",
    "- The stakeholder identified The Movie Database (TMDB) as a source of financial data (https://www.themoviedb.org/).\n",
    "- The stakeholder wants the budget, revenue, and MPAA Rating (G/PG/PG-13/R), which is also called \"Certification\"."
   ]
  },
  {
   "cell_type": "markdown",
   "id": "cc24b0db",
   "metadata": {},
   "source": [
    "## Tasks:\n",
    "- Download several files from IMDB’s movie data set and filter out the subset of moves requested by the stakeholder.\n",
    "- Use an API to extract box office revenue and profit data to add to the IMDB data and perform exploratory data analysis.\n",
    "- Construct and export a MySQL database using the data.\n",
    "- Apply hypothesis testing to explore what makes a movie successful.\n",
    "- Produce a Linear Regression model to predict movie performance."
   ]
  },
  {
   "cell_type": "markdown",
   "id": "e26dbdca",
   "metadata": {},
   "source": [
    "### Financial Data Tasks:\n",
    "- perform a test extraction of movies that started in 2000 or 2001\n",
    "- each year should be saved as a separate .csv.gz file"
   ]
  },
  {
   "cell_type": "markdown",
   "id": "3be9d2cd",
   "metadata": {},
   "source": [
    "## Data:\n",
    "\n",
    "Data Location - The dataset files can be accessed and downloaded from https://datasets.imdbws.com/. The data is refreshed daily.\n",
    "\n",
    "Data Source - TMDB\n",
    "\n",
    "![png](TMDB1024_1.png)\n",
    "\n",
    "IMDb Dataset Details -\n",
    "\n",
    "- title.akas.tsv.gz -  \n",
    "Contains the following information for titles:\n",
    "\n",
    " - titleId (string) - a tconst, an alphanumeric unique identifier of the title\n",
    " - ordering (integer) – a number to uniquely identify rows for a given titleId\n",
    " - title (string) – the localized title\n",
    " - region (string) - the region for this version of the title\n",
    " - language (string) - the language of the title\n",
    " - types (array) - Enumerated set of attributes for this alternative title. One or more of the following: \"alternative\", \"dvd\", \"festival\", \"tv\", \"video\", \"working\", \"original\", \"imdbDisplay\". New values may be added in the future without warning\n",
    " - attributes (array) - Additional terms to describe this alternative title, not enumerated\n",
    " - isOriginalTitle (boolean) – 0: not original title; 1: original title  \n",
    " \n",
    " \n",
    "- title.basics.tsv.gz -   \n",
    "Contains the following information for titles:\n",
    " - tconst (string) - alphanumeric unique identifier of the title\n",
    " - titleType (string) – the type/format of the title (e.g. movie, short, tvseries, tvepisode, video, etc)\n",
    " - primaryTitle (string) – the more popular title / the title used by the filmmakers on promotional materials at the point of release\n",
    " - originalTitle (string) - original title, in the original language\n",
    " - isAdult (boolean) - 0: non-adult title; 1: adult title\n",
    " - startYear (YYYY) – represents the release year of a title. In the case of TV Series, it is the series start year\n",
    " - endYear (YYYY) – TV Series end year. ‘\\N’ for all other title types\n",
    " - runtimeMinutes – primary runtime of the title, in minutes\n",
    " - genres (string array) – includes up to three genres associated with the title   \n",
    " \n",
    " \n",
    "- title.ratings.tsv.gz –   \n",
    "Contains the IMDb rating and votes information for titles\n",
    " - tconst (string) - alphanumeric unique identifier of the title\n",
    " - averageRating – weighted average of all the individual user ratings\n",
    " - numVotes - number of votes the title has received"
   ]
  },
  {
   "cell_type": "markdown",
   "id": "c2e5fdb7",
   "metadata": {},
   "source": [
    "## Preliminary steps"
   ]
  },
  {
   "cell_type": "markdown",
   "id": "34a17b96",
   "metadata": {},
   "source": [
    "### Imports"
   ]
  },
  {
   "cell_type": "code",
   "execution_count": 1,
   "id": "a0f5f8c5",
   "metadata": {},
   "outputs": [],
   "source": [
    "import pandas as pd\n",
    "import numpy as np\n",
    "import json, os, time\n",
    "import tmdbsimple as tmdb\n",
    "from tqdm.notebook import tqdm_notebook"
   ]
  },
  {
   "cell_type": "markdown",
   "id": "401369ac",
   "metadata": {},
   "source": [
    "### Credentials and Accessing the API"
   ]
  },
  {
   "cell_type": "code",
   "execution_count": 2,
   "id": "f1e3eedb",
   "metadata": {},
   "outputs": [],
   "source": [
    "with open('/Users/andreacohen/.secret/tmdb_api.json', 'r') as f:\n",
    "    login = json.load(f)\n",
    "tmdb.API_KEY = login['api-key']"
   ]
  },
  {
   "cell_type": "markdown",
   "id": "575fb5bc",
   "metadata": {},
   "source": [
    "### Custom functions"
   ]
  },
  {
   "cell_type": "code",
   "execution_count": 3,
   "id": "f7f26e8b",
   "metadata": {},
   "outputs": [],
   "source": [
    "# add the certification (MPGG Rating) to movie.info\n",
    "def get_movie_with_rating(movie_id):\n",
    "    \"\"\"Adapted from source = https://github.com/celiao/tmdbsimple\"\"\"\n",
    "    #get the movie object for the current id\n",
    "    movie = tmdb.Movies(movie_id)\n",
    "    #save the .info, .releases dictionaries\n",
    "    info = movie.info()\n",
    "    releases = movie.releases()\n",
    "    #loop through countries in releases\n",
    "    for c in releases['countries']:\n",
    "        #if the country abbreviation == US\n",
    "        if c['iso_3166_1'] == 'US':\n",
    "            #save a certification key in info with the certification\n",
    "            info['certification'] = c['certification']\n",
    "    return info"
   ]
  },
  {
   "cell_type": "code",
   "execution_count": 4,
   "id": "12eb195e",
   "metadata": {},
   "outputs": [],
   "source": [
    "# append/extend a JSON file with Python\n",
    "def write_json(new_data, filename): \n",
    "    \"\"\"Appends a list of records (new_data) to a json file (filename). \n",
    "    Adapted from: https://www.geeksforgeeks.org/append-to-json-file-using-python/\"\"\"  \n",
    "    with open(filename,'r+') as file:\n",
    "        # First load existing data into a dict\n",
    "        file_data = json.load(file)\n",
    "        ## Choose extend or append\n",
    "        if (type(new_data) == list) & (type(file_data) == list):\n",
    "            file_data.extend(new_data)\n",
    "        else:\n",
    "             file_data.append(new_data)\n",
    "        # Set file's current position as offset\n",
    "        file.seek(0)\n",
    "        # convert back to json.\n",
    "        json.dump(file_data, file)"
   ]
  },
  {
   "cell_type": "markdown",
   "id": "68009bcb",
   "metadata": {},
   "source": [
    "### Confirm the API function works"
   ]
  },
  {
   "cell_type": "markdown",
   "id": "63359e4f",
   "metadata": {},
   "source": [
    "#### Test the function on movie id: tt0848228 (\"The Avengers\")"
   ]
  },
  {
   "cell_type": "code",
   "execution_count": 5,
   "id": "779c26fc",
   "metadata": {},
   "outputs": [
    {
     "data": {
      "text/plain": [
       "{'adult': False,\n",
       " 'backdrop_path': '/9BBTo63ANSmhC4e6r62OJFuK2GL.jpg',\n",
       " 'belongs_to_collection': {'id': 86311,\n",
       "  'name': 'The Avengers Collection',\n",
       "  'poster_path': '/yFSIUVTCvgYrpalUktulvk3Gi5Y.jpg',\n",
       "  'backdrop_path': '/zuW6fOiusv4X9nnW3paHGfXcSll.jpg'},\n",
       " 'budget': 220000000,\n",
       " 'genres': [{'id': 878, 'name': 'Science Fiction'},\n",
       "  {'id': 28, 'name': 'Action'},\n",
       "  {'id': 12, 'name': 'Adventure'}],\n",
       " 'homepage': 'https://www.marvel.com/movies/the-avengers',\n",
       " 'id': 24428,\n",
       " 'imdb_id': 'tt0848228',\n",
       " 'original_language': 'en',\n",
       " 'original_title': 'The Avengers',\n",
       " 'overview': 'When an unexpected enemy emerges and threatens global safety and security, Nick Fury, director of the international peacekeeping agency known as S.H.I.E.L.D., finds himself in need of a team to pull the world back from the brink of disaster. Spanning the globe, a daring recruitment effort begins!',\n",
       " 'popularity': 150.823,\n",
       " 'poster_path': '/RYMX2wcKCBAr24UyPD7xwmjaTn.jpg',\n",
       " 'production_companies': [{'id': 420,\n",
       "   'logo_path': '/hUzeosd33nzE5MCNsZxCGEKTXaQ.png',\n",
       "   'name': 'Marvel Studios',\n",
       "   'origin_country': 'US'}],\n",
       " 'production_countries': [{'iso_3166_1': 'US',\n",
       "   'name': 'United States of America'}],\n",
       " 'release_date': '2012-04-25',\n",
       " 'revenue': 1518815515,\n",
       " 'runtime': 143,\n",
       " 'spoken_languages': [{'english_name': 'English',\n",
       "   'iso_639_1': 'en',\n",
       "   'name': 'English'},\n",
       "  {'english_name': 'Hindi', 'iso_639_1': 'hi', 'name': 'हिन्दी'},\n",
       "  {'english_name': 'Russian', 'iso_639_1': 'ru', 'name': 'Pусский'}],\n",
       " 'status': 'Released',\n",
       " 'tagline': 'Some assembly required.',\n",
       " 'title': 'The Avengers',\n",
       " 'video': False,\n",
       " 'vote_average': 7.707,\n",
       " 'vote_count': 28245,\n",
       " 'certification': 'PG-13'}"
      ]
     },
     "execution_count": 5,
     "metadata": {},
     "output_type": "execute_result"
    }
   ],
   "source": [
    "test1 = get_movie_with_rating(\"tt0848228\")\n",
    "test1"
   ]
  },
  {
   "cell_type": "markdown",
   "id": "dff9287f",
   "metadata": {},
   "source": [
    "- The API function returned the budget, revenue, and MPAA Rating for The Avengers."
   ]
  },
  {
   "cell_type": "markdown",
   "id": "b6ae06b4",
   "metadata": {},
   "source": [
    "#### Test the function on movie id: tt0332280 (\"The Notebook\")"
   ]
  },
  {
   "cell_type": "code",
   "execution_count": 6,
   "id": "a7e02764",
   "metadata": {},
   "outputs": [
    {
     "data": {
      "text/plain": [
       "{'adult': False,\n",
       " 'backdrop_path': '/qom1SZSENdmHFNZBXbtJAU0WTlC.jpg',\n",
       " 'belongs_to_collection': None,\n",
       " 'budget': 29000000,\n",
       " 'genres': [{'id': 10749, 'name': 'Romance'}, {'id': 18, 'name': 'Drama'}],\n",
       " 'homepage': 'http://www.newline.com/properties/notebookthe.html',\n",
       " 'id': 11036,\n",
       " 'imdb_id': 'tt0332280',\n",
       " 'original_language': 'en',\n",
       " 'original_title': 'The Notebook',\n",
       " 'overview': \"An epic love story centered around an older man who reads aloud to a woman with Alzheimer's. From a faded notebook, the old man's words bring to life the story about a couple who is separated by World War II, and is then passionately reunited, seven years later, after they have taken different paths.\",\n",
       " 'popularity': 64.44,\n",
       " 'poster_path': '/rNzQyW4f8B8cQeg7Dgj3n6eT5k9.jpg',\n",
       " 'production_companies': [{'id': 12,\n",
       "   'logo_path': '/iaYpEp3LQmb8AfAtmTvpqd4149c.png',\n",
       "   'name': 'New Line Cinema',\n",
       "   'origin_country': 'US'},\n",
       "  {'id': 1565, 'logo_path': None, 'name': 'Avery Pix', 'origin_country': 'US'},\n",
       "  {'id': 2605,\n",
       "   'logo_path': None,\n",
       "   'name': 'Gran Via Productions',\n",
       "   'origin_country': 'US'}],\n",
       " 'production_countries': [{'iso_3166_1': 'US',\n",
       "   'name': 'United States of America'}],\n",
       " 'release_date': '2004-06-25',\n",
       " 'revenue': 115603229,\n",
       " 'runtime': 123,\n",
       " 'spoken_languages': [{'english_name': 'English',\n",
       "   'iso_639_1': 'en',\n",
       "   'name': 'English'}],\n",
       " 'status': 'Released',\n",
       " 'tagline': 'Behind every great love is a great story.',\n",
       " 'title': 'The Notebook',\n",
       " 'video': False,\n",
       " 'vote_average': 7.879,\n",
       " 'vote_count': 10175,\n",
       " 'certification': 'PG-13'}"
      ]
     },
     "execution_count": 6,
     "metadata": {},
     "output_type": "execute_result"
    }
   ],
   "source": [
    "test2 = get_movie_with_rating(\"tt0332280\")\n",
    "test2"
   ]
  },
  {
   "cell_type": "markdown",
   "id": "c78e98ea",
   "metadata": {},
   "source": [
    "- The API function returned the budget, revenue, and MPAA Rating for The Notebook."
   ]
  },
  {
   "cell_type": "markdown",
   "id": "30139910",
   "metadata": {},
   "source": [
    "## Before the loops\n"
   ]
  },
  {
   "cell_type": "markdown",
   "id": "25812bc0",
   "metadata": {},
   "source": [
    "### Designate a folder to save the information"
   ]
  },
  {
   "cell_type": "code",
   "execution_count": 7,
   "id": "ea0321de",
   "metadata": {},
   "outputs": [
    {
     "data": {
      "text/plain": [
       "['title_basics.csv.gz', 'title_akas.csv.gz', 'title_ratings.csv.gz']"
      ]
     },
     "execution_count": 7,
     "metadata": {},
     "output_type": "execute_result"
    }
   ],
   "source": [
    "FOLDER = \"Data/\"\n",
    "os.makedirs(FOLDER, exist_ok=True)\n",
    "os.listdir(FOLDER)"
   ]
  },
  {
   "cell_type": "markdown",
   "id": "cc7053b3",
   "metadata": {},
   "source": [
    "### Load in the Title Basics data"
   ]
  },
  {
   "cell_type": "code",
   "execution_count": 8,
   "id": "c8ea602e",
   "metadata": {},
   "outputs": [],
   "source": [
    "# Load in the dataframe from project part 1 as basics:\n",
    "basics = pd.read_csv('Data/title_basics.csv.gz')"
   ]
  },
  {
   "cell_type": "markdown",
   "id": "8cf234f3",
   "metadata": {},
   "source": [
    "### Define the years to retrieve"
   ]
  },
  {
   "cell_type": "code",
   "execution_count": 9,
   "id": "bd492b89",
   "metadata": {},
   "outputs": [],
   "source": [
    "YEARS_TO_GET = [2000,2001]"
   ]
  },
  {
   "cell_type": "markdown",
   "id": "fe7c8c8d",
   "metadata": {},
   "source": [
    "### Define an errors list"
   ]
  },
  {
   "cell_type": "code",
   "execution_count": 10,
   "id": "66fa1cb0",
   "metadata": {},
   "outputs": [],
   "source": [
    "errors = [ ]"
   ]
  },
  {
   "cell_type": "markdown",
   "id": "f0d97553",
   "metadata": {},
   "source": [
    "## Create a nested loop\n",
    "### Outer loop organizes output by year into separate .json files\n",
    "### Inner loop makes API calls based on the existing IMDB IDs"
   ]
  },
  {
   "cell_type": "code",
   "execution_count": 11,
   "id": "8d9f8080",
   "metadata": {},
   "outputs": [
    {
     "data": {
      "application/vnd.jupyter.widget-view+json": {
       "model_id": "0f054de6539445c4b72d1e8d14ca69ea",
       "version_major": 2,
       "version_minor": 0
      },
      "text/plain": [
       "YEARS:   0%|          | 0/2 [00:00<?, ?it/s]"
      ]
     },
     "metadata": {},
     "output_type": "display_data"
    },
    {
     "data": {
      "application/vnd.jupyter.widget-view+json": {
       "model_id": "a5987b75a68c48c5ad6ac68f017f7bae",
       "version_major": 2,
       "version_minor": 0
      },
      "text/plain": [
       "Movies from 2000:   0%|          | 0/1433 [00:00<?, ?it/s]"
      ]
     },
     "metadata": {},
     "output_type": "display_data"
    },
    {
     "data": {
      "application/vnd.jupyter.widget-view+json": {
       "model_id": "6468cb460f774c4a9a04513f2d7478f6",
       "version_major": 2,
       "version_minor": 0
      },
      "text/plain": [
       "Movies from 2001:   0%|          | 0/1548 [00:00<?, ?it/s]"
      ]
     },
     "metadata": {},
     "output_type": "display_data"
    }
   ],
   "source": [
    "# set up progress bar\n",
    "for YEAR in tqdm_notebook(YEARS_TO_GET, desc='YEARS', position=0):\n",
    "    # define a JSON_FILE to save the results in progress\n",
    "    JSON_FILE = f'{FOLDER}tmdb_api_results_{YEAR}.json'\n",
    "    # check if file exists\n",
    "    file_exists = os.path.isfile(JSON_FILE)\n",
    "    # if it does not exist: create it\n",
    "    if file_exists == False:\n",
    "        # save an empty dict with just \"imdb_id\" to the new json file.\n",
    "        with open(JSON_FILE,'w') as f:\n",
    "            json.dump([{'imdb_id':0}],f)\n",
    "    # define/filter the IDs to call\n",
    "    # save new year as the current df\n",
    "    df = basics.loc[basics['startYear']==YEAR].copy()\n",
    "    # save movie ids to list\n",
    "    movie_ids = df['tconst'].copy()\n",
    "    # load existing data from json into a dataframe called \"previous_df\"\n",
    "    previous_df = pd.read_json(JSON_FILE)\n",
    "    # filter out any ids that are already in the JSON_FILE\n",
    "    movie_ids_to_get = movie_ids[~movie_ids.isin(previous_df['imdb_id'])]\n",
    "    # iterate through the list of Movie IDs and make the calls\n",
    "    for movie_id in tqdm_notebook(movie_ids_to_get,\n",
    "                                  desc=f'Movies from {YEAR}',\n",
    "                                  position=1,\n",
    "                                  leave=True):\n",
    "        try:\n",
    "            # retrieve the data for the movie id\n",
    "            temp = get_movie_with_rating(movie_id)  \n",
    "            # append/extend results to existing file using a pre-made function\n",
    "            write_json(temp,JSON_FILE)\n",
    "            # short 20 ms sleep to prevent overwhelming server\n",
    "            time.sleep(0.02)\n",
    "        except Exception as e:\n",
    "            errors.append([movie_id, e])\n",
    "    # save the year's results as csv.gz file\n",
    "    final_year_df = pd.read_json(JSON_FILE)\n",
    "    final_year_df.to_csv(f\"{FOLDER}final_tmdb_data_{YEAR}.csv.gz\", compression=\"gzip\", index=False)\n",
    "            \n",
    "    "
   ]
  },
  {
   "cell_type": "markdown",
   "id": "1db57300",
   "metadata": {},
   "source": [
    "## Print a message reporting back the number of movie ids that caused an error."
   ]
  },
  {
   "cell_type": "code",
   "execution_count": 12,
   "id": "bb4cdca6",
   "metadata": {},
   "outputs": [
    {
     "name": "stdout",
     "output_type": "stream",
     "text": [
      "- Total errors: 456\n"
     ]
    }
   ],
   "source": [
    "print(f\"- Total errors: {len(errors)}\")"
   ]
  }
 ],
 "metadata": {
  "kernelspec": {
   "display_name": "Python (dojo-env)",
   "language": "python",
   "name": "dojo-env"
  },
  "language_info": {
   "codemirror_mode": {
    "name": "ipython",
    "version": 3
   },
   "file_extension": ".py",
   "mimetype": "text/x-python",
   "name": "python",
   "nbconvert_exporter": "python",
   "pygments_lexer": "ipython3",
   "version": "3.9.15"
  },
  "toc": {
   "base_numbering": 1,
   "nav_menu": {},
   "number_sections": false,
   "sideBar": true,
   "skip_h1_title": false,
   "title_cell": "Table of Contents",
   "title_sidebar": "Contents",
   "toc_cell": false,
   "toc_position": {},
   "toc_section_display": true,
   "toc_window_display": false
  }
 },
 "nbformat": 4,
 "nbformat_minor": 5
}
